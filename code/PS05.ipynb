{
 "metadata": {
  "name": "",
  "signature": "sha256:5200ab2b6ced4893f2c77b6e62f9e12d6ced9e0f0b3cf9505abc6fce13961eda"
 },
 "nbformat": 3,
 "nbformat_minor": 0,
 "worksheets": [
  {
   "cells": [
    {
     "cell_type": "heading",
     "level": 2,
     "metadata": {},
     "source": [
      "1) Following the example in chap07.ipynb, make a synthesis matrix (the IDFT matrix) using a different range of frequencies, and see what difference it makes.\n",
      "\n",
      "The usual version of IDFT uses frequencies 0 through N-1.  What happens if you go from N to 2N-1?"
     ]
    },
    {
     "cell_type": "code",
     "collapsed": false,
     "input": [],
     "language": "python",
     "metadata": {},
     "outputs": []
    },
    {
     "cell_type": "heading",
     "level": 2,
     "metadata": {},
     "source": [
      "2) In thinkdsp.py, the Spectrum methods low_pass and high_pass are ideal filters, in some sense: in the passband they are perfectly flat, and in the stopband they attenuate to 0 (or whatever value you want).\n",
      "\n",
      "Invoking the principle that for every filter there is a corresponding window, see if you can figure out what window corresponds to these ideal filters."
     ]
    },
    {
     "cell_type": "heading",
     "level": 2,
     "metadata": {},
     "source": [
      "3) So far we have focused attention on the effect filters have on the magnitude of each frequency component, but they also affect the phase offset.  For the boxcar and Gaussian windows, plot the phase shift as a function of frequency."
     ]
    },
    {
     "cell_type": "heading",
     "level": 2,
     "metadata": {},
     "source": [
      "4) Taking the difference of successive elements in a wave array has the same effect as convolution with the window [1, -1].  The filter for this\n",
      "window is an increasing function of f, so you can think of diff as a high-pass filter.\n",
      "\n",
      "One way to explain this behavior is that diff is a rough approximation of a derivative, and differentiation corresponds to a filter where amplitude is proportional to f.\n",
      "\n",
      "If we use a better approximation of a derivative, we might expect the corresponding filter to be a better approximation of a line.  The window [-1/2, 2, -3/2] is a second order forward difference approximation of the first derivative.  Compute its DFT and see what the filter looks like.\n",
      "\n",
      "Also try [1, -2, 1], which is approximates the second derivative.  What does the filter for the second derivative look like?  And how does that compare to the filter for this window?\n",
      "\n",
      "See also http://en.wikipedia.org/wiki/Finite_difference_coefficient"
     ]
    },
    {
     "cell_type": "heading",
     "level": 2,
     "metadata": {},
     "source": [
      "5) The gunshot recording I used in chap09.ipynb was clipped, which means that the loudest part gets cut off, which makes the rest of the sound seem louder than it should be, which exaggerates the reverb of the space.\n",
      "\n",
      "But it looks like there is a better version of this recording at http://www.freesound.org/people/Kleeb/sounds/180960/\n",
      "\n",
      "Use this recording to replace the one I used and see if it tones down the reverb a little.\n",
      "\n",
      "Also, apply the same effect to the saxophone recording."
     ]
    },
    {
     "cell_type": "heading",
     "level": 2,
     "metadata": {},
     "source": [
      "6) Use spectrum.differentiate() to compute the derivative of a ParabolicSignal.  Hint: this works best if the duration of the wave is an integer number of periods."
     ]
    }
   ],
   "metadata": {}
  }
 ]
}