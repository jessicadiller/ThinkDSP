{
 "metadata": {
  "name": "",
  "signature": "sha256:5acfd4bfa4f7c3da5fe899b75e8459205e352c4bb2feaa301337c44817c48c28"
 },
 "nbformat": 3,
 "nbformat_minor": 0,
 "worksheets": [
  {
   "cells": [
    {
     "cell_type": "heading",
     "level": 1,
     "metadata": {},
     "source": [
      "Problem Set 4"
     ]
    },
    {
     "cell_type": "heading",
     "level": 2,
     "metadata": {},
     "source": [
      "Jessica Diller"
     ]
    },
    {
     "cell_type": "code",
     "collapsed": false,
     "input": [
      "from __future__ import print_function, division\n",
      "\n",
      "import thinkdsp\n",
      "import thinkdspdct\n",
      "import thinkplot\n",
      "import thinkstats2\n",
      "import math\n",
      "import numpy\n",
      "\n",
      "%precision 3\n",
      "PI2 = 2 * math.pi"
     ],
     "language": "python",
     "metadata": {},
     "outputs": [
      {
       "ename": "ImportError",
       "evalue": "No module named thinkdspdct",
       "output_type": "pyerr",
       "traceback": [
        "\u001b[1;31m---------------------------------------------------------------------------\u001b[0m\n\u001b[1;31mImportError\u001b[0m                               Traceback (most recent call last)",
        "\u001b[1;32m<ipython-input-1-b323e9e861ba>\u001b[0m in \u001b[0;36m<module>\u001b[1;34m()\u001b[0m\n\u001b[0;32m      2\u001b[0m \u001b[1;33m\u001b[0m\u001b[0m\n\u001b[0;32m      3\u001b[0m \u001b[1;32mimport\u001b[0m \u001b[0mthinkdsp\u001b[0m\u001b[1;33m\u001b[0m\u001b[0m\n\u001b[1;32m----> 4\u001b[1;33m \u001b[1;32mimport\u001b[0m \u001b[0mthinkdspdct\u001b[0m\u001b[1;33m\u001b[0m\u001b[0m\n\u001b[0m\u001b[0;32m      5\u001b[0m \u001b[1;32mimport\u001b[0m \u001b[0mthinkplot\u001b[0m\u001b[1;33m\u001b[0m\u001b[0m\n\u001b[0;32m      6\u001b[0m \u001b[1;32mimport\u001b[0m \u001b[0mthinkstats2\u001b[0m\u001b[1;33m\u001b[0m\u001b[0m\n",
        "\u001b[1;31mImportError\u001b[0m: No module named thinkdspdct"
       ]
      }
     ],
     "prompt_number": 1
    },
    {
     "cell_type": "heading",
     "level": 2,
     "metadata": {},
     "source": [
      "0) On PS03, it looks like some people did not get as far as a working implementation of DCT-based compression.  If you want to finish it for this homework, I think you will find it educational, and you can fill in some of the missing points from PS03."
     ]
    },
    {
     "cell_type": "heading",
     "level": 3,
     "metadata": {},
     "source": [
      "Break a long signal into segments, compute DCT of each segment, identify frequency components with amplitude so low they're inaudible and remove them, and then apply the inverse DCT."
     ]
    },
    {
     "cell_type": "code",
     "collapsed": false,
     "input": [
      "def dct_iv(ys):\n",
      "    N = len(ys)\n",
      "    ts = (0.5 + numpy.arange(N)) / N\n",
      "    freqs = (0.5 + numpy.arange(N)) / 2\n",
      "    args = numpy.outer(ts, freqs)\n",
      "    M = numpy.cos(PI2 * args)\n",
      "    amps = numpy.dot(M, ys) / 2\n",
      "    return amps\n",
      "#apply to a recording of music\n",
      "wave = thinkdsp.read_wave('92002__jcveliz__violin-origional.wav');\n",
      "duration = 1;\n",
      "for x in range (0,len(wave)):\n",
      "    start = x;\n",
      "    #break a signal into segments\n",
      "    segment = wave.segment(start, duration);\n",
      "    ys = segment.ys;\n",
      "    #compute DCT of each segment\n",
      "    amps = dct_iv(segment.ys)\n",
      "    #identify frequencies components that are inaudible\n",
      "    #unsure what amplitude would mean audible, I picked 0.05\n",
      "    if amps < 0.05:\n",
      "        #ignore segment and end loop\n",
      "        #\"remove them\"\n",
      "    else:\n",
      "        #add amp to some new list/dictionary of segment frequencies/amps that gets bigger through each loop\n",
      "#apply inverse DCT\n",
      "inverse_dct_iv(amps)  \n",
      "        \n"
     ],
     "language": "python",
     "metadata": {},
     "outputs": []
    },
    {
     "cell_type": "heading",
     "level": 2,
     "metadata": {},
     "source": [
      "1) Please finish this exercise that we started in class: One of the examples in chap07.ipynb compares two mixtures of complex sinusoids, one with offset=0 and one with offset=1.  The result is a different looking waveform, because \"rotating\" each component by the same phase offset does not shift each component by the same amount of time.\n",
      "Can you construct a vector of complex amplitudes that shifts all components by the same amount of time?"
     ]
    },
    {
     "cell_type": "heading",
     "level": 3,
     "metadata": {},
     "source": [
      "Ae^(i*2pi*f*t + phaseshift) --  constant A, frequency of each complex sinusoid changes individually"
     ]
    },
    {
     "cell_type": "heading",
     "level": 3,
     "metadata": {},
     "source": [
      "To shift all complex amplitude by the same amount of time, the phase shift has to be incorporated into the time element. The correct equation would read -- Ae^(i*2pi*f*(t+phaseshift))"
     ]
    },
    {
     "cell_type": "heading",
     "level": 2,
     "metadata": {},
     "source": [
      "2) In Chapter 7 I represented the DFT as matrix multiplication, but the more common presentation is as a summation:\n",
      "\n",
      "From http://en.wikipedia.org/wiki/Discrete_Fourier_transform:\n",
      "\n",
      "X_k\\ \\stackrel{\\text{def}}{=}\\ \\sum_{n=0}^{N-1} x_n \\cdot e^{-i 2 \\pi k n / N},  \\quad k\\in\\mathbb{Z}\\,\n",
      "\n",
      "Read the Wikipedia page on DFT.  Write an implementation of DFT based on this summation and compare your results to my implementation and/or numpy.fft.fft."
     ]
    },
    {
     "cell_type": "heading",
     "level": 3,
     "metadata": {},
     "source": [
      "answer"
     ]
    },
    {
     "cell_type": "heading",
     "level": 2,
     "metadata": {},
     "source": [
      "3) In Chapter 7, I showed how we can express the DFT and inverse DFT as matrix multiplications. These operations are relatively fast, taking time proportional to N2, where N is the length of the wave array. That would be fast enough for many applications, but it turns out that there is a faster algorithm, the Fast Fourier Transform (FFT), which takes time proportional to N logN.\n",
      "\n",
      "Read about the FFT at http://en.wikipedia.org/wiki/Cooley-Tukey_FFT_algorithm, and write an implementation. Hint: I suggest you write a simple version as a recursive function; don\u2019t worry about \u201cdata reordering, bit reversal, and in-place algorithms\u201d."
     ]
    },
    {
     "cell_type": "heading",
     "level": 3,
     "metadata": {},
     "source": [
      "answer"
     ]
    },
    {
     "cell_type": "heading",
     "level": 1,
     "metadata": {},
     "source": [
      "Honestly, I know these answers are bad. I generally understand the concepts of the course, which is good, but I'm still having trouble understanding what to do and how to do it for these problem sets. I'm planning on making office hours more of a priority in my schedule, so I can get the help I need and get future problem sets in on-time and complete. I'm also inquiring to see if I can get a peer tutor, just to get through this initial bit of re-learning coding while learning concepts. Thanks for reading this!"
     ]
    },
    {
     "cell_type": "code",
     "collapsed": false,
     "input": [],
     "language": "python",
     "metadata": {},
     "outputs": []
    }
   ],
   "metadata": {}
  }
 ]
}