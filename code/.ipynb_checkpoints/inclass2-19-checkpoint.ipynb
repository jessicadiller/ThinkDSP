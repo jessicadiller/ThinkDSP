{
 "metadata": {
  "name": "",
  "signature": "sha256:3ca900261daad25d9a443ae11fbb1f2022805ba1033bdf44d97e9ad61b8a71e1"
 },
 "nbformat": 3,
 "nbformat_minor": 0,
 "worksheets": [
  {
   "cells": [
    {
     "cell_type": "heading",
     "level": 1,
     "metadata": {},
     "source": [
      "take an aribtrary signal and express as a weighted sum of complex sinusoids"
     ]
    },
    {
     "cell_type": "code",
     "collapsed": false,
     "input": [
      "spectrum = wave.make_spectrum()\n",
      "factors = PI2*i*spectrum.fs\n",
      "spectrum.hs = factors\n",
      "diff = spectrum.make_wa"
     ],
     "language": "python",
     "metadata": {},
     "outputs": []
    }
   ],
   "metadata": {}
  }
 ]
}