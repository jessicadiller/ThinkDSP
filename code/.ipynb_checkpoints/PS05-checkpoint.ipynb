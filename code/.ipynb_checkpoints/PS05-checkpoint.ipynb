{
 "metadata": {
  "name": "",
  "signature": "sha256:c5204c33db65978eb28442ec4c6faadb68218ae5e29875a991a647e5dd8066f6"
 },
 "nbformat": 3,
 "nbformat_minor": 0,
 "worksheets": []
}