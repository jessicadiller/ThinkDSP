{
 "metadata": {
  "name": "",
  "signature": "sha256:740b3e2a38d2e6dfab16ff08eed496813412765453275243e90151f7b348fddd"
 },
 "nbformat": 3,
 "nbformat_minor": 0,
 "worksheets": [
  {
   "cells": [
    {
     "cell_type": "heading",
     "level": 1,
     "metadata": {},
     "source": [
      "Problem Set Five"
     ]
    },
    {
     "cell_type": "heading",
     "level": 2,
     "metadata": {},
     "source": [
      "Jessica Diller"
     ]
    },
    {
     "cell_type": "code",
     "collapsed": false,
     "input": [
      "from __future__ import print_function, division\n",
      "\n",
      "import thinkdsp\n",
      "import thinkplot\n",
      "import thinkstats2\n",
      "import math\n",
      "import numpy\n",
      "import scipy.signal\n",
      "\n",
      "%precision 3\n",
      "%matplotlib inline\n",
      "\n",
      "PI2 = 2 * math.pi\n",
      "i = complex(0, 1)"
     ],
     "language": "python",
     "metadata": {},
     "outputs": [],
     "prompt_number": 1
    },
    {
     "cell_type": "heading",
     "level": 3,
     "metadata": {},
     "source": [
      "Question One"
     ]
    },
    {
     "cell_type": "code",
     "collapsed": false,
     "input": [
      "amps = numpy.array([0.6, 0.25, 0.1, 0.05])\n",
      "\n",
      "def idftN(amps):\n",
      "    N = len(amps)\n",
      "    freqs = numpy.arange(N)\n",
      "    ts = numpy.arange(N) / N\n",
      "    args = numpy.outer(ts, freqs)\n",
      "    M = numpy.exp(i * PI2 * args)\n",
      "    ys = M.conj().transpose().dot(amps)\n",
      "    return ys\n",
      "\n",
      "def idft(amps):\n",
      "    N = len(amps)\n",
      "    freqs = numpy.arange(N,(2*N))\n",
      "    ts = numpy.arange(N) / N\n",
      "    args = numpy.outer(ts, freqs)\n",
      "    M = numpy.exp(i * PI2 * args)\n",
      "    ys = M.conj().transpose().dot(amps)\n",
      "    return ys\n",
      "\n",
      "print(idftN(amps))\n",
      "print(idft(amps))\n",
      "\n",
      "def approx_equal(a, b, tol=1e-10):\n",
      "    return sum(abs(a-b)) < tol\n",
      "\n",
      "approx_equal(idftN(amps),idft(amps))"
     ],
     "language": "python",
     "metadata": {},
     "outputs": [
      {
       "output_type": "stream",
       "stream": "stdout",
       "text": [
        "[ 1.0 +0.000e+00j  0.5 -2.000e-01j  0.4 -2.449e-17j  0.5 +2.000e-01j]\n",
        "[ 1.0 +1.470e-16j  0.5 -2.000e-01j  0.4 -7.348e-17j  0.5 +2.000e-01j]\n"
       ]
      },
      {
       "metadata": {},
       "output_type": "pyout",
       "prompt_number": 2,
       "text": [
        "True"
       ]
      }
     ],
     "prompt_number": 2
    },
    {
     "cell_type": "heading",
     "level": 4,
     "metadata": {},
     "source": [
      "What happens if you go from N to 2N-1? The DFT is periodic so the it's the same from 0 to N-1 and from N to 2N-1. I know this because I used the approx_equal function to compare the inverse DFT of both amplitudes of these ranges and it output \"true.\""
     ]
    },
    {
     "cell_type": "heading",
     "level": 3,
     "metadata": {},
     "source": [
      "Question Two"
     ]
    },
    {
     "cell_type": "heading",
     "level": 4,
     "metadata": {},
     "source": [
      "Low Pass:"
     ]
    },
    {
     "cell_type": "code",
     "collapsed": false,
     "input": [
      "wave = thinkdsp.read_wave('219093__annabloom__rudolph-rednose.wav')\n",
      "wave.make_audio()\n",
      "spectrum = wave.make_spectrum()\n",
      "lowpass = spectrum.copy()\n",
      "lowpass.hs = numpy.ones_like(lowpass.hs)\n",
      "lowpass.low_pass(5000)\n",
      "lowwindow = lowpass.make_wave()\n",
      "lowwindow.segment(duration = .005).plot()"
     ],
     "language": "python",
     "metadata": {},
     "outputs": [
      {
       "metadata": {},
       "output_type": "display_data",
       "png": "[encoded data removed]",
       "text": [
        "<matplotlib.figure.Figure at 0x16b8fac8>"
       ]
      }
     ]
    },
    {
     "cell_type": "heading",
     "level": 5,
     "metadata": {},
     "source": [
      "To help create the right kind of object, I started with a wav file and then filtered it with Allen Downey's thinkDSP library low pass function as a spectrum. "
     ]
    },
    {
     "cell_type": "heading",
     "level": 4,
     "metadata": {},
     "source": [
      "High Pass:"
     ]
    },
    {
     "cell_type": "code",
     "collapsed": false,
     "input": [
      "highpass = spectrum.copy()\n",
      "highpass.hs = numpy.ones_like(highpass.hs)\n",
      "highpass.high_pass(3000)\n",
      "highwindow = highpass.make_wave()\n",
      "highwindow.segment(duration = .005).plot()"
     ],
     "language": "python",
     "metadata": {},
     "outputs": []
    },
    {
     "cell_type": "code",
     "collapsed": false,
     "input": [
      "I used Allen Downey's thinkDSP library to filter the spectrum with low pass "
     ],
     "language": "python",
     "metadata": {},
     "outputs": []
    },
    {
     "cell_type": "heading",
     "level": 3,
     "metadata": {},
     "source": [
      "Question Three:"
     ]
    },
    {
     "cell_type": "code",
     "collapsed": false,
     "input": [
      "def zero_pad (array, n):\n",
      "    res = numpy.zeros(n)\n",
      "    res[:len(array)] = array\n",
      "    return res"
     ],
     "language": "python",
     "metadata": {},
     "outputs": []
    },
    {
     "cell_type": "code",
     "collapsed": false,
     "input": [
      "boxcar = numpy.ones(11)\n",
      "boxcar /= sum(boxcar)"
     ],
     "language": "python",
     "metadata": {},
     "outputs": []
    },
    {
     "cell_type": "code",
     "collapsed": false,
     "input": [
      "gaussian = scipy.signal.gaussian(M=11, std=2)\n",
      "gaussian /= sum(gaussian)"
     ],
     "language": "python",
     "metadata": {},
     "outputs": []
    },
    {
     "cell_type": "code",
     "collapsed": false,
     "input": [
      "boxcar_filter = numpy.fft.fft(zero_pad(boxcar,2000))\n",
      "thinkplot.plot(numpy.angle(boxcar_filter))"
     ],
     "language": "python",
     "metadata": {},
     "outputs": []
    },
    {
     "cell_type": "code",
     "collapsed": false,
     "input": [
      "gaussian_filter = numpy.fft.fft(zero_pad(gaussian,2000))\n",
      "thinkplot.plot(numpy.angle(gaussian_filter))"
     ],
     "language": "python",
     "metadata": {},
     "outputs": []
    },
    {
     "cell_type": "heading",
     "level": 3,
     "metadata": {},
     "source": [
      "Question Four:"
     ]
    },
    {
     "cell_type": "code",
     "collapsed": false,
     "input": [
      "window_one = [-.5, 2, -1.5]\n",
      "window_one_filter = numpy.fft.fft(zero_pad(window_one, 2000))\n",
      "thinkplot.plot(numpy.absolute(window_one_filter))"
     ],
     "language": "python",
     "metadata": {},
     "outputs": []
    },
    {
     "cell_type": "code",
     "collapsed": false,
     "input": [
      "window_two = [1,-2, 1]\n",
      "window_two_filter = numpy.fft.fft(zero_pad(window_two, 2000))\n",
      "thinkplot.plot(numpy.absolute(window_two_filter))"
     ],
     "language": "python",
     "metadata": {},
     "outputs": []
    },
    {
     "cell_type": "heading",
     "level": 5,
     "metadata": {},
     "source": [
      "Curvier slope than the first one."
     ]
    },
    {
     "cell_type": "heading",
     "level": 3,
     "metadata": {},
     "source": [
      "Question Five:"
     ]
    },
    {
     "cell_type": "code",
     "collapsed": false,
     "input": [
      "gunshot = thinkdsp.read_wave('180960__kleeb__gunshot.wav')\n",
      "gunshot_spec = gunshot.make_spectrum()\n",
      "response = len(gunshot.ys)\n",
      "\n",
      "sax = thinkdsp.read_wave('100475__iluppai__saxophone-weep.wav')\n",
      "sax.ys = sax.ys[0:response]\n",
      "sax_spec = sax.make_spectrum()\n",
      "sax.plot()\n",
      "sax.make_audio()"
     ],
     "language": "python",
     "metadata": {},
     "outputs": []
    },
    {
     "cell_type": "code",
     "collapsed": false,
     "input": [
      "output = gunshot_spec * sax_spec\n",
      "output.make_wave().plot()\n",
      "output.make_wave().make_audio()"
     ],
     "language": "python",
     "metadata": {},
     "outputs": []
    },
    {
     "cell_type": "heading",
     "level": 3,
     "metadata": {},
     "source": [
      "Question Six:"
     ]
    },
    {
     "cell_type": "code",
     "collapsed": false,
     "input": [
      "para_wave = thinkdsp.ParabolicSignal(freq=100).make_wave(duration=0.1)\n",
      "para_wave.plot()"
     ],
     "language": "python",
     "metadata": {},
     "outputs": []
    },
    {
     "cell_type": "code",
     "collapsed": false,
     "input": [
      "para_spec = para_wave.make_spectrum()\n",
      "para_spec.plot()"
     ],
     "language": "python",
     "metadata": {},
     "outputs": []
    },
    {
     "cell_type": "code",
     "collapsed": false,
     "input": [
      "para_spec.differentiate()\n",
      "para_spec.plot()"
     ],
     "language": "python",
     "metadata": {},
     "outputs": []
    },
    {
     "cell_type": "code",
     "collapsed": false,
     "input": [
      "para_spec.make_wave().plot()"
     ],
     "language": "python",
     "metadata": {},
     "outputs": []
    },
    {
     "cell_type": "code",
     "collapsed": false,
     "input": [],
     "language": "python",
     "metadata": {},
     "outputs": []
    }
   ],
   "metadata": {}
  }
 ]
}